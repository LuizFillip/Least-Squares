{
 "cells": [
  {
   "cell_type": "code",
   "execution_count": 3,
   "metadata": {
    "slideshow": {
     "slide_type": "slide"
    }
   },
   "outputs": [],
   "source": [
    "import matplotlib.pyplot as plt\n",
    "import numpy as np\n",
    "from scipy.optimize import curve_fit"
   ]
  },
  {
   "cell_type": "markdown",
   "metadata": {
    "slideshow": {
     "slide_type": "slide"
    }
   },
   "source": [
    "# Least Squares Implemented\n",
    "\n",
    "### Function for adjust data like an cosine pure \n",
    "\n",
    "\n",
    "<ul>\n",
    "<font size = 6>\n",
    "\\begin{equation} A \\cos (\\omega x + \\phi) \\end{equation}\n",
    "</font>\n",
    "</ul>"
   ]
  },
  {
   "cell_type": "code",
   "execution_count": 11,
   "metadata": {
    "slideshow": {
     "slide_type": "slide"
    }
   },
   "outputs": [
    {
     "data": {
      "text/plain": [
       "(25.638625278740392,\n",
       " -1.1034612682536515,\n",
       " 11.043342567715348,\n",
       " 1.1034612682536515)"
      ]
     },
     "execution_count": 11,
     "metadata": {},
     "output_type": "execute_result"
    },
    {
     "data": {
      "image/png": "[encoded data removed]",
      "text/plain": [
       "<Figure size 432x288 with 1 Axes>"
      ]
     },
     "metadata": {
      "needs_background": "light"
     },
     "output_type": "display_data"
    }
   ],
   "source": [
    "class least_square(object):\n",
    "    \n",
    "    \"\"\"\n",
    "    Function which adjust a set of data with least squares method. \n",
    "    Like a pure cosine in data: amplitude*cos(omega*x + phase)\n",
    "        \n",
    "    Parameters\n",
    "    ----------\n",
    "        x : array\n",
    "            Values of variable independent \n",
    "            \n",
    "        y : array \n",
    "            Values of variable dependendent\n",
    "            \n",
    "        period: Number (integer or float)\n",
    "            Period for compute angular frequency od oscillation. Default: 1\n",
    "    Atributes:\n",
    "    ---------\n",
    "        get_values: Array\n",
    "        Return values adjust the input data\n",
    "        \n",
    "        results: Number \n",
    "        Return mean, phase, amplitude\n",
    "        \n",
    "    Examples:\n",
    "    ----------\n",
    "        y =  np.array([31,35,37,33,28,20,16,15,18,23,31])\n",
    "        x =  np.array([0.0,0.1,0.2,0.3,0.4,0.5,0.6,0.7,0.8,0.9,1.0])\n",
    "\n",
    "        fitting = least_square(x, y)\n",
    "        fitting.results()\n",
    "        \n",
    "        >>> (25.638625278740392, -1.1034612682536515, 11.043342567715348)\n",
    "        fitting.get_values()\n",
    "        \n",
    "        >>> array([30.61374721, 35.45866844, 36.55266696, 33.4778725 , 27.40875206,\n",
    "       20.66350334, 15.81858211, 14.7245836 , 17.79937805, 23.8684985 ,\n",
    "       30.61374721])    \n",
    "    \"\"\"\n",
    "    \n",
    "    \n",
    "    def __init__(self, x, y, period = 1):\n",
    "        \n",
    "        #declare variable dependent and independent\n",
    "        self.x = x\n",
    "        self.y = y\n",
    "        \n",
    "        #compute de frequency angular for period \n",
    "        omega = 2*np.pi / period\n",
    "        \n",
    "        #Configure the array max(rows_x) X (3): vertical stack and transpose\n",
    "        matrix_sol = np.vstack([np.ones(len(self.x)), np.cos(omega*self.x), \n",
    "                                np.sin(omega*self.x)]).T\n",
    "        \n",
    "        #solve the linear system Ax = B\n",
    "        self.mean, a, b = np.linalg.lstsq(matrix_sol, self.y, rcond=None)[0]\n",
    "    \n",
    "        #Compute de amplitude \n",
    "        self.amplitude = np.sqrt(a**2 + b**2)\n",
    "        \n",
    "        # Conditions for phase \n",
    "        if a > 0:\n",
    "            phase = np.arctan(- b / a) \n",
    "        elif a < 0 and b > 0:\n",
    "            phase = - (np.arctan(- b / a) - np.pi)\n",
    "            \n",
    "        elif a < 0 and b < 0:\n",
    "            phase =  (np.arctan(- b / a) + np.pi)\n",
    "            \n",
    "        elif a == 0 and b > 0:\n",
    "            phase = np.pi / 2\n",
    "            \n",
    "        elif a == 0 and b < 0:\n",
    "            phase = - np.pi / 2\n",
    "            \n",
    "        else:\n",
    "            \"When the amplitude is very smaller, the phase not is well defined\"\n",
    "            #Debug the value error for a == 0 and b == 0\n",
    "            raise ValueError(\"Phase it is arbitrary\")\n",
    "            \n",
    "        #change variable\n",
    "        self.phase = phase\n",
    "        self.omega = omega\n",
    "        self.phase2 = np.arctan2(b, a)\n",
    "\n",
    "    def get_values(self):\n",
    "        \"The values for adjust\"\n",
    "        return self.mean + self.amplitude*np.cos(self.omega*x + self.phase)\n",
    "    \n",
    "    def results(self):\n",
    "        \"The mean, phase and amplitude\"\n",
    "        return self.mean, self.phase, self.amplitude, self.phase2\n",
    "\n",
    "\n",
    "y =  np.array([31.0, 35.0, 37.0, 33.0, 28.0, 20.0, 16.0, 15.0, 18.0, 23.0, 31.0])\n",
    "x =  np.array([0.0, 0.1, 0.2, 0.3, 0.4, 0.5, 0.6, 0.7, 0.8, 0.9, 1.0])\n",
    "\n",
    "fit = least_square(x, y)\n",
    "#mean, phase, amp = fit.results()\n",
    "\n",
    "plt.plot(x, y, 'o')\n",
    "plt.plot(x, fit.get_values())\n",
    "fit.results()"
   ]
  },
  {
   "cell_type": "code",
   "execution_count": 40,
   "metadata": {},
   "outputs": [
    {
     "name": "stdout",
     "output_type": "stream",
     "text": [
      "Wall time: 0 ns\n"
     ]
    },
    {
     "data": {
      "text/plain": [
       "array([-11.00958863,  -4.25116661])"
      ]
     },
     "execution_count": 40,
     "metadata": {},
     "output_type": "execute_result"
    },
    {
     "data": {
      "image/png": "[encoded data removed]",
      "text/plain": [
       "<Figure size 432x288 with 1 Axes>"
      ]
     },
     "metadata": {
      "needs_background": "light"
     },
     "output_type": "display_data"
    }
   ],
   "source": [
    "%time\n",
    "\n",
    "period = 1\n",
    "\n",
    "def func(x, a, c): \n",
    "    omega = 2*np.pi / period\n",
    "    return np.mean(y) + a * np.cos(omega*x + c) \n",
    "    \n",
    "popt, pcov = curve_fit(func, x, y, absolute_sigma = True)\n",
    "\n",
    "plt.plot(x, func(x, *popt), color = 'black')\n",
    "plt.plot(x, y, 'o')\n",
    "popt"
   ]
  },
  {
   "cell_type": "code",
   "execution_count": 26,
   "metadata": {},
   "outputs": [
    {
     "data": {
      "text/plain": [
       "[<matplotlib.lines.Line2D at 0x1fe60ca4d88>]"
      ]
     },
     "execution_count": 26,
     "metadata": {},
     "output_type": "execute_result"
    },
    {
     "data": {
      "image/png": "[encoded data removed]",
      "text/plain": [
       "<Figure size 432x288 with 1 Axes>"
      ]
     },
     "metadata": {
      "needs_background": "light"
     },
     "output_type": "display_data"
    }
   ],
   "source": [
    "class least_squares_cramer(object):\n",
    "    \n",
    "    def __init__(self, x, y, period = 1):\n",
    "        \n",
    "        self.x = x\n",
    "        self.y = y\n",
    "        \n",
    "        omega = 2*np.pi / period\n",
    "\n",
    "        sumA = sum((np.cos(omega*self.x))**2)\n",
    "        sumB = sum((-np.cos(omega*self.x))*np.sin(omega*self.x))\n",
    "        sumC = sum(self.y*np.cos(omega*self.x))\n",
    "        sumD = sum(np.cos(omega*self.x)*np.sin(omega*self.x))\n",
    "        sumE = sum(-(np.sin(omega*self.x))**2)\n",
    "        sumF = sum(self.y*np.sin(omega*self.x))\n",
    "\n",
    "        a = ((sumC*sumE) - (sumF*sumB)) / ((sumA*sumE) - (sumB*sumD))\n",
    "        b = ((sumA*sumF) - (sumD*sumC)) / ((sumA*sumE) - (sumB*sumD))\n",
    "\n",
    "        self.values = np.mean(self.y) + a*np.cos(omega*self.x) - b*np.sin(omega*self.x)\n",
    "        \n",
    "        if a > 0:\n",
    "            phase = np.arctan(- b / a) \n",
    "        elif a < 0 and b > 0:\n",
    "            phase = - (np.arctan(- b / a) - np.pi)\n",
    "        elif a < 0 and b < 0:\n",
    "            phase =  (np.arctan(- b / a) + np.pi)\n",
    "        elif a == 0 and b > 0:\n",
    "            phase = np.pi / 2\n",
    "        elif a == 0 and b < 0:\n",
    "            phase = - np.pi / 2\n",
    "        else:\n",
    "            raise ValueError(\"Phase it is arbritary\")\n",
    "            \n",
    "            \n",
    "        self.phase = phase\n",
    "        self.amplitude = np.sqrt(a**2 + b**2)\n",
    "        self.omega = omega\n",
    "    \n",
    "    def get_values(self):\n",
    "        return self.x, self.values\n",
    "    \n",
    "    def results(self):\n",
    "        return np.mean(self.y), self.amplitude, self.phase \n",
    "    \n",
    "    def get_adjust(self):\n",
    "        return np.mean(self.y) + self.amplitude * np.cos(self.omega*self.x + self.phase)\n",
    "    \n",
    "y =  np.array([31,35,37,33,28,20,16,15,18,23,31])\n",
    "\n",
    "x =  np.array([0.0,0.1,0.2,0.3,0.4,0.5,0.6,0.7,0.8,0.9,1.0])\n",
    "\n",
    "fit = least_squares_cramer(x, y)\n",
    "fit.results()\n",
    "\n",
    "plt.plot(x, y, 'o')\n",
    "plt.plot(x, fit.get_adjust())"
   ]
  },
  {
   "cell_type": "code",
   "execution_count": 70,
   "metadata": {},
   "outputs": [],
   "source": [
    "class cosseno(object):\n",
    "\n",
    "    def __init__(self, x, y, period):\n",
    "        \n",
    "        self.x = x\n",
    "        self.y = y\n",
    "    \n",
    "        def func(x, a, c):        #Amplitude and Phase \n",
    "            omega = 2*np.pi / period\n",
    "            return np.mean(self.y) + a * np.cos(omega*x + c) \n",
    "    \n",
    "        self.popt, self.pcov = curve_fit(func, self.x, self.y, absolute_sigma = True)\n",
    "        \n",
    "        self.perr = np.sqrt(np.diag(self.pcov))\n",
    "        \n",
    "        self.fit  = func(self.x, *self.popt)\n",
    "        nstd = 5\n",
    "        \n",
    "        popt_up = self.popt + nstd * self.perr\n",
    "        popt_dw = self.popt - nstd * self.perr\n",
    "        \n",
    "        self.fit_up = func(self.x, *popt_up)\n",
    "        self.fit_dw = func(self.x, *popt_dw)\n",
    "        \n",
    "\n",
    "    def get_values(self):\n",
    "        return self.x, self.fit\n",
    "                    \n",
    "    def parameters(self):\n",
    "        return self.popt, self.perr #Amplitude and Phase / Error\n",
    "    \n",
    "    def residual(self):\n",
    "        self.residual = self.y - self.fit\n",
    "        return self.x, self.residual\n",
    "  \n",
    "    def devition(self): # to draw 5-sigma intervals\n",
    "        return self.fit, self.fit_up, self.fit_dw"
   ]
  },
  {
   "cell_type": "code",
   "execution_count": 32,
   "metadata": {},
   "outputs": [
    {
     "data": {
      "image/png": "[encoded data removed]",
      "text/plain": [
       "<Figure size 432x288 with 1 Axes>"
      ]
     },
     "metadata": {
      "needs_background": "light"
     },
     "output_type": "display_data"
    }
   ],
   "source": [
    "xi =  np.array([0.0,0.1,0.2,0.3,0.4,0.5,0.6,0.7,0.8,0.9,1.0])\n",
    "yi =  np.array([31,35,37,33,28,20,16,15,18,23,31])\n",
    "\n",
    "V = np.array([np.ones(len(xi)),np.cos(2*np.pi*xi), np.sin(2*np.pi*xi)]).transpose()\n",
    "\n",
    "a = ((np.linalg.inv((V.transpose()).dot(V))).dot(V.transpose())).dot(yi)\n",
    "\n",
    "xx = np.linspace(-0.25,1.25)\n",
    "\n",
    "plt.plot(xi,yi,'ro')\n",
    "plt.plot(xx, a[0] + a[1]*np.cos(2*np.pi*xx) + a[2]*np.sin(2*np.pi*xx), 'b-')\n",
    "\n",
    "plt.show()\n",
    "\n",
    "xi = np.array([0,0.25,0.5,0.75,1])\n",
    "yi = np.array([-153,64,242,284,175])\n",
    "\n",
    "V = np.array([xi**2,xi**1,xi**0]).transpose()\n",
    "a = ((np.linalg.inv((V.transpose()).dot(V))).dot(V.transpose())).dot(yi)\n",
    "xx = np.linspace(-0.25,1.25)\n",
    "plt.plot(xi,yi,'ro',xx,np.polyval(a,xx),'b-')"
   ]
  }
 ],
 "metadata": {
  "celltoolbar": "Slideshow",
  "kernelspec": {
   "display_name": "Python 3",
   "language": "python",
   "name": "python3"
  },
  "language_info": {
   "codemirror_mode": {
    "name": "ipython",
    "version": 3
   },
   "file_extension": ".py",
   "mimetype": "text/x-python",
   "name": "python",
   "nbconvert_exporter": "python",
   "pygments_lexer": "ipython3",
   "version": "3.8.8"
  }
 },
 "nbformat": 4,
 "nbformat_minor": 2
}
